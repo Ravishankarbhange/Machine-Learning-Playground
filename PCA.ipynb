{
 "cells": [
  {
   "cell_type": "code",
   "execution_count": 2,
   "id": "169117be-8dce-4fb6-af78-0fb1822efb83",
   "metadata": {},
   "outputs": [],
   "source": [
    "import numpy as np\n",
    "import pandas as pd"
   ]
  },
  {
   "cell_type": "code",
   "execution_count": 4,
   "id": "81cfa97d-920e-4b84-9eb0-714886190b41",
   "metadata": {},
   "outputs": [
    {
     "data": {
      "text/html": [
       "<div>\n",
       "<style scoped>\n",
       "    .dataframe tbody tr th:only-of-type {\n",
       "        vertical-align: middle;\n",
       "    }\n",
       "\n",
       "    .dataframe tbody tr th {\n",
       "        vertical-align: top;\n",
       "    }\n",
       "\n",
       "    .dataframe thead th {\n",
       "        text-align: right;\n",
       "    }\n",
       "</style>\n",
       "<table border=\"1\" class=\"dataframe\">\n",
       "  <thead>\n",
       "    <tr style=\"text-align: right;\">\n",
       "      <th></th>\n",
       "      <th>Pregnancies</th>\n",
       "      <th>Glucose</th>\n",
       "      <th>BloodPressure</th>\n",
       "      <th>SkinThickness</th>\n",
       "      <th>Insulin</th>\n",
       "      <th>BMI</th>\n",
       "      <th>DiabetesPedigreeFunction</th>\n",
       "      <th>Age</th>\n",
       "      <th>Outcome</th>\n",
       "    </tr>\n",
       "  </thead>\n",
       "  <tbody>\n",
       "    <tr>\n",
       "      <th>0</th>\n",
       "      <td>6</td>\n",
       "      <td>148</td>\n",
       "      <td>72</td>\n",
       "      <td>35</td>\n",
       "      <td>0</td>\n",
       "      <td>33.6</td>\n",
       "      <td>0.627</td>\n",
       "      <td>50</td>\n",
       "      <td>1</td>\n",
       "    </tr>\n",
       "    <tr>\n",
       "      <th>1</th>\n",
       "      <td>1</td>\n",
       "      <td>85</td>\n",
       "      <td>66</td>\n",
       "      <td>29</td>\n",
       "      <td>0</td>\n",
       "      <td>26.6</td>\n",
       "      <td>0.351</td>\n",
       "      <td>31</td>\n",
       "      <td>0</td>\n",
       "    </tr>\n",
       "    <tr>\n",
       "      <th>2</th>\n",
       "      <td>8</td>\n",
       "      <td>183</td>\n",
       "      <td>64</td>\n",
       "      <td>0</td>\n",
       "      <td>0</td>\n",
       "      <td>23.3</td>\n",
       "      <td>0.672</td>\n",
       "      <td>32</td>\n",
       "      <td>1</td>\n",
       "    </tr>\n",
       "    <tr>\n",
       "      <th>3</th>\n",
       "      <td>1</td>\n",
       "      <td>89</td>\n",
       "      <td>66</td>\n",
       "      <td>23</td>\n",
       "      <td>94</td>\n",
       "      <td>28.1</td>\n",
       "      <td>0.167</td>\n",
       "      <td>21</td>\n",
       "      <td>0</td>\n",
       "    </tr>\n",
       "    <tr>\n",
       "      <th>4</th>\n",
       "      <td>0</td>\n",
       "      <td>137</td>\n",
       "      <td>40</td>\n",
       "      <td>35</td>\n",
       "      <td>168</td>\n",
       "      <td>43.1</td>\n",
       "      <td>2.288</td>\n",
       "      <td>33</td>\n",
       "      <td>1</td>\n",
       "    </tr>\n",
       "  </tbody>\n",
       "</table>\n",
       "</div>"
      ],
      "text/plain": [
       "   Pregnancies  Glucose  BloodPressure  SkinThickness  Insulin   BMI  \\\n",
       "0            6      148             72             35        0  33.6   \n",
       "1            1       85             66             29        0  26.6   \n",
       "2            8      183             64              0        0  23.3   \n",
       "3            1       89             66             23       94  28.1   \n",
       "4            0      137             40             35      168  43.1   \n",
       "\n",
       "   DiabetesPedigreeFunction  Age  Outcome  \n",
       "0                     0.627   50        1  \n",
       "1                     0.351   31        0  \n",
       "2                     0.672   32        1  \n",
       "3                     0.167   21        0  \n",
       "4                     2.288   33        1  "
      ]
     },
     "execution_count": 4,
     "metadata": {},
     "output_type": "execute_result"
    }
   ],
   "source": [
    "data = pd.read_csv(\"diabetes.csv\")\n",
    "data.head()"
   ]
  },
  {
   "cell_type": "code",
   "execution_count": 8,
   "id": "df01dbb3-5dc7-465c-a484-b20c07ff431a",
   "metadata": {},
   "outputs": [],
   "source": [
    "df = data.drop(columns=['Outcome'],axis = 1)"
   ]
  },
  {
   "cell_type": "code",
   "execution_count": 30,
   "id": "a4482cde-2b18-4c82-b50a-4ad117400465",
   "metadata": {},
   "outputs": [],
   "source": [
    "from sklearn.preprocessing import StandardScaler\n",
    "scaler = StandardScaler()\n",
    "dataScaled = scaler.fit_transform(df)\n",
    "dataScaled = pd.DataFrame(dataScaled)"
   ]
  },
  {
   "cell_type": "code",
   "execution_count": 37,
   "id": "a3f7f0b3-b2f9-4dac-bcb6-bec93850a998",
   "metadata": {},
   "outputs": [
    {
     "data": {
      "text/plain": [
       "(768, 8)"
      ]
     },
     "execution_count": 37,
     "metadata": {},
     "output_type": "execute_result"
    }
   ],
   "source": [
    "dataScaled.shape"
   ]
  },
  {
   "cell_type": "code",
   "execution_count": 43,
   "id": "16fcca57-a4e4-4926-951b-259e93dcea1c",
   "metadata": {},
   "outputs": [
    {
     "data": {
      "text/html": [
       "<div>\n",
       "<style scoped>\n",
       "    .dataframe tbody tr th:only-of-type {\n",
       "        vertical-align: middle;\n",
       "    }\n",
       "\n",
       "    .dataframe tbody tr th {\n",
       "        vertical-align: top;\n",
       "    }\n",
       "\n",
       "    .dataframe thead th {\n",
       "        text-align: right;\n",
       "    }\n",
       "</style>\n",
       "<table border=\"1\" class=\"dataframe\">\n",
       "  <thead>\n",
       "    <tr style=\"text-align: right;\">\n",
       "      <th></th>\n",
       "      <th>0</th>\n",
       "      <th>1</th>\n",
       "      <th>2</th>\n",
       "      <th>3</th>\n",
       "      <th>4</th>\n",
       "      <th>5</th>\n",
       "      <th>6</th>\n",
       "      <th>7</th>\n",
       "    </tr>\n",
       "  </thead>\n",
       "  <tbody>\n",
       "    <tr>\n",
       "      <th>0</th>\n",
       "      <td>1.001304</td>\n",
       "      <td>0.129627</td>\n",
       "      <td>0.141466</td>\n",
       "      <td>-0.081778</td>\n",
       "      <td>-0.073630</td>\n",
       "      <td>0.017706</td>\n",
       "      <td>-0.033566</td>\n",
       "      <td>0.545051</td>\n",
       "    </tr>\n",
       "    <tr>\n",
       "      <th>1</th>\n",
       "      <td>0.129627</td>\n",
       "      <td>1.001304</td>\n",
       "      <td>0.152789</td>\n",
       "      <td>0.057403</td>\n",
       "      <td>0.331789</td>\n",
       "      <td>0.221359</td>\n",
       "      <td>0.137516</td>\n",
       "      <td>0.263858</td>\n",
       "    </tr>\n",
       "    <tr>\n",
       "      <th>2</th>\n",
       "      <td>0.141466</td>\n",
       "      <td>0.152789</td>\n",
       "      <td>1.001304</td>\n",
       "      <td>0.207641</td>\n",
       "      <td>0.089049</td>\n",
       "      <td>0.282173</td>\n",
       "      <td>0.041319</td>\n",
       "      <td>0.239840</td>\n",
       "    </tr>\n",
       "    <tr>\n",
       "      <th>3</th>\n",
       "      <td>-0.081778</td>\n",
       "      <td>0.057403</td>\n",
       "      <td>0.207641</td>\n",
       "      <td>1.001304</td>\n",
       "      <td>0.437352</td>\n",
       "      <td>0.393085</td>\n",
       "      <td>0.184167</td>\n",
       "      <td>-0.114119</td>\n",
       "    </tr>\n",
       "    <tr>\n",
       "      <th>4</th>\n",
       "      <td>-0.073630</td>\n",
       "      <td>0.331789</td>\n",
       "      <td>0.089049</td>\n",
       "      <td>0.437352</td>\n",
       "      <td>1.001304</td>\n",
       "      <td>0.198117</td>\n",
       "      <td>0.185312</td>\n",
       "      <td>-0.042218</td>\n",
       "    </tr>\n",
       "    <tr>\n",
       "      <th>5</th>\n",
       "      <td>0.017706</td>\n",
       "      <td>0.221359</td>\n",
       "      <td>0.282173</td>\n",
       "      <td>0.393085</td>\n",
       "      <td>0.198117</td>\n",
       "      <td>1.001304</td>\n",
       "      <td>0.140830</td>\n",
       "      <td>0.036289</td>\n",
       "    </tr>\n",
       "    <tr>\n",
       "      <th>6</th>\n",
       "      <td>-0.033566</td>\n",
       "      <td>0.137516</td>\n",
       "      <td>0.041319</td>\n",
       "      <td>0.184167</td>\n",
       "      <td>0.185312</td>\n",
       "      <td>0.140830</td>\n",
       "      <td>1.001304</td>\n",
       "      <td>0.033605</td>\n",
       "    </tr>\n",
       "    <tr>\n",
       "      <th>7</th>\n",
       "      <td>0.545051</td>\n",
       "      <td>0.263858</td>\n",
       "      <td>0.239840</td>\n",
       "      <td>-0.114119</td>\n",
       "      <td>-0.042218</td>\n",
       "      <td>0.036289</td>\n",
       "      <td>0.033605</td>\n",
       "      <td>1.001304</td>\n",
       "    </tr>\n",
       "  </tbody>\n",
       "</table>\n",
       "</div>"
      ],
      "text/plain": [
       "          0         1         2         3         4         5         6  \\\n",
       "0  1.001304  0.129627  0.141466 -0.081778 -0.073630  0.017706 -0.033566   \n",
       "1  0.129627  1.001304  0.152789  0.057403  0.331789  0.221359  0.137516   \n",
       "2  0.141466  0.152789  1.001304  0.207641  0.089049  0.282173  0.041319   \n",
       "3 -0.081778  0.057403  0.207641  1.001304  0.437352  0.393085  0.184167   \n",
       "4 -0.073630  0.331789  0.089049  0.437352  1.001304  0.198117  0.185312   \n",
       "5  0.017706  0.221359  0.282173  0.393085  0.198117  1.001304  0.140830   \n",
       "6 -0.033566  0.137516  0.041319  0.184167  0.185312  0.140830  1.001304   \n",
       "7  0.545051  0.263858  0.239840 -0.114119 -0.042218  0.036289  0.033605   \n",
       "\n",
       "          7  \n",
       "0  0.545051  \n",
       "1  0.263858  \n",
       "2  0.239840  \n",
       "3 -0.114119  \n",
       "4 -0.042218  \n",
       "5  0.036289  \n",
       "6  0.033605  \n",
       "7  1.001304  "
      ]
     },
     "execution_count": 43,
     "metadata": {},
     "output_type": "execute_result"
    }
   ],
   "source": [
    "covarienceMatrix = dataScaled.T @ dataScaled/767\n",
    "covarienceMatrix"
   ]
  },
  {
   "cell_type": "code",
   "execution_count": 45,
   "id": "786452b7-fd4e-47ab-824a-43b0c1a2f4fa",
   "metadata": {},
   "outputs": [],
   "source": [
    "eigenValues, eigenVectors = np.linalg.eig(covarienceMatrix)"
   ]
  },
  {
   "cell_type": "code",
   "execution_count": 47,
   "id": "79c50c89-ae2e-4a44-9b73-5545b38f99dd",
   "metadata": {},
   "outputs": [
    {
     "data": {
      "text/plain": [
       "array([2.09711056, 1.73346726, 0.42036353, 0.40498938, 0.68351839,\n",
       "       0.76333832, 0.87667054, 1.03097228])"
      ]
     },
     "execution_count": 47,
     "metadata": {},
     "output_type": "execute_result"
    }
   ],
   "source": [
    "eigenValues"
   ]
  },
  {
   "cell_type": "code",
   "execution_count": 59,
   "id": "52ba84bb-80c2-4589-ab65-52001500cadf",
   "metadata": {},
   "outputs": [
    {
     "data": {
      "text/plain": [
       "0     -1.068503\n",
       "1      1.121683\n",
       "2      0.396477\n",
       "3      1.115781\n",
       "4     -2.359334\n",
       "         ...   \n",
       "763   -1.562085\n",
       "764    0.100405\n",
       "765    0.283475\n",
       "766    1.060324\n",
       "767    0.839892\n",
       "Length: 768, dtype: float64"
      ]
     },
     "execution_count": 59,
     "metadata": {},
     "output_type": "execute_result"
    }
   ],
   "source": [
    "PC1_data = dataScaled @ eigenVectors[:, 0]\n",
    "PC1_data"
   ]
  },
  {
   "cell_type": "markdown",
   "id": "f1be0948-93dc-4ba6-86d1-55293b6d28b8",
   "metadata": {},
   "source": [
    "# PCA Implementation using sklearn"
   ]
  },
  {
   "cell_type": "code",
   "execution_count": 66,
   "id": "627024dc-ac41-47fd-bc37-e796252ba891",
   "metadata": {},
   "outputs": [
    {
     "data": {
      "text/plain": [
       "array([[ 1.06850273,  1.23489499],\n",
       "       [-1.12168331, -0.73385167],\n",
       "       [-0.39647671,  1.59587594],\n",
       "       ...,\n",
       "       [-0.28347525,  0.09706503],\n",
       "       [-1.06032431,  0.83706234],\n",
       "       [-0.83989172, -1.15175485]])"
      ]
     },
     "execution_count": 66,
     "metadata": {},
     "output_type": "execute_result"
    }
   ],
   "source": [
    "from sklearn.decomposition import PCA\n",
    "pca = PCA(n_components=2)\n",
    "pca.fit_transform(dataScaled)"
   ]
  },
  {
   "cell_type": "code",
   "execution_count": 68,
   "id": "e7e01510-0c00-45b7-b729-dab4ed244d1c",
   "metadata": {},
   "outputs": [],
   "source": [
    "from sklearn.decomposition import PCA\n",
    "pca = PCA()\n",
    "principal_component = pca.fit_transform(dataScaled)"
   ]
  },
  {
   "cell_type": "code",
   "execution_count": 74,
   "id": "700cf2d9-55cf-4452-ac9c-6116bfd357da",
   "metadata": {},
   "outputs": [
    {
     "data": {
      "text/plain": [
       "array([0.26179749, 0.21640127, 0.12870373, 0.10944113, 0.09529305,\n",
       "       0.08532855, 0.05247702, 0.05055776])"
      ]
     },
     "execution_count": 74,
     "metadata": {},
     "output_type": "execute_result"
    }
   ],
   "source": [
    "pca.explained_variance_ratio_"
   ]
  },
  {
   "cell_type": "code",
   "execution_count": 76,
   "id": "df633f50-651a-4048-81c0-c0694e3c456e",
   "metadata": {},
   "outputs": [
    {
     "data": {
      "image/png": "[encoded data removed]",
      "text/plain": [
       "<Figure size 640x480 with 1 Axes>"
      ]
     },
     "metadata": {},
     "output_type": "display_data"
    }
   ],
   "source": [
    "import matplotlib.pyplot as plt\n",
    "plt.plot(np.cumsum(pca.explained_variance_ratio_))\n",
    "plt.xlabel(\"Dimensions\")\n",
    "plt.ylabel(\"Explained Varience Ratio\")\n",
    "plt.show()"
   ]
  },
  {
   "cell_type": "code",
   "execution_count": null,
   "id": "557ea2e1-5e23-49ea-8227-46d4980f19fe",
   "metadata": {},
   "outputs": [],
   "source": []
  }
 ],
 "metadata": {
  "kernelspec": {
   "display_name": "Python [conda env:base] *",
   "language": "python",
   "name": "conda-base-py"
  },
  "language_info": {
   "codemirror_mode": {
    "name": "ipython",
    "version": 3
   },
   "file_extension": ".py",
   "mimetype": "text/x-python",
   "name": "python",
   "nbconvert_exporter": "python",
   "pygments_lexer": "ipython3",
   "version": "3.12.7"
  }
 },
 "nbformat": 4,
 "nbformat_minor": 5
}
